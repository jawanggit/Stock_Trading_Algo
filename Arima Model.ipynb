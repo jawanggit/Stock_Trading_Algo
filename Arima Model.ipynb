{
 "cells": [
  {
   "cell_type": "code",
   "execution_count": 5,
   "id": "absolute-triple",
   "metadata": {},
   "outputs": [],
   "source": [
    "import pandas as pd\n",
    "import math\n",
    "import csv\n",
    "import numpy as np\n",
    "from sklearn.ensemble import GradientBoostingRegressor, RandomForestRegressor\n",
    "from sklearn.metrics import mean_squared_error\n",
    "import sklearn.model_selection as cv\n",
    "import sklearn.datasets as datasets\n",
    "# from sklearn.model_selection import GridSearchCV\n",
    "from statsmodels.tsa.arima.model import ARIMA\n",
    "import tensorflow as tf\n",
    "from tensorflow import keras\n",
    "from tensorflow.keras import layers\n",
    "from pandas.plotting import autocorrelation_plot"
   ]
  },
  {
   "cell_type": "code",
   "execution_count": 7,
   "id": "designed-teddy",
   "metadata": {},
   "outputs": [],
   "source": [
    "df_model = pd.read_excel('test_df_model.xlsx',engine='openpyxl')"
   ]
  },
  {
   "cell_type": "code",
   "execution_count": 8,
   "id": "classical-confidence",
   "metadata": {},
   "outputs": [],
   "source": [
    "df_final = pd.read_excel('test_df_final.xlsx',engine = 'openpyxl')"
   ]
  },
  {
   "cell_type": "code",
   "execution_count": 92,
   "id": "surrounded-coast",
   "metadata": {},
   "outputs": [
    {
     "ename": "ValueError",
     "evalue": "Length mismatch: Expected axis has 1200 elements, new values have 1 elements",
     "output_type": "error",
     "traceback": [
      "\u001b[0;31m---------------------------------------------------------------------------\u001b[0m",
      "\u001b[0;31mValueError\u001b[0m                                Traceback (most recent call last)",
      "\u001b[0;32m<ipython-input-92-8703ffd0d633>\u001b[0m in \u001b[0;36m<module>\u001b[0;34m\u001b[0m\n\u001b[1;32m      3\u001b[0m \u001b[0mvalue\u001b[0m \u001b[0;34m=\u001b[0m \u001b[0;34m[\u001b[0m\u001b[0mmath\u001b[0m\u001b[0;34m.\u001b[0m\u001b[0mlog\u001b[0m\u001b[0;34m(\u001b[0m\u001b[0mx\u001b[0m\u001b[0;34m)\u001b[0m \u001b[0;32mfor\u001b[0m \u001b[0mx\u001b[0m \u001b[0;32min\u001b[0m \u001b[0mts_low\u001b[0m\u001b[0;34m]\u001b[0m\u001b[0;34m\u001b[0m\u001b[0;34m\u001b[0m\u001b[0m\n\u001b[1;32m      4\u001b[0m \u001b[0mresult\u001b[0m \u001b[0;34m=\u001b[0m \u001b[0mpd\u001b[0m\u001b[0;34m.\u001b[0m\u001b[0mDataFrame\u001b[0m\u001b[0;34m(\u001b[0m\u001b[0mvalue\u001b[0m\u001b[0;34m)\u001b[0m\u001b[0;34m\u001b[0m\u001b[0;34m\u001b[0m\u001b[0m\n\u001b[0;32m----> 5\u001b[0;31m \u001b[0mresult\u001b[0m\u001b[0;34m.\u001b[0m\u001b[0mindex\u001b[0m \u001b[0;34m=\u001b[0m \u001b[0mpd\u001b[0m\u001b[0;34m.\u001b[0m\u001b[0mdate_range\u001b[0m\u001b[0;34m(\u001b[0m\u001b[0mstart\u001b[0m\u001b[0;34m=\u001b[0m\u001b[0;36m0\u001b[0m\u001b[0;34m,\u001b[0m \u001b[0mend\u001b[0m\u001b[0;34m=\u001b[0m \u001b[0mlen\u001b[0m\u001b[0;34m(\u001b[0m\u001b[0mresult\u001b[0m\u001b[0;34m)\u001b[0m\u001b[0;34m,\u001b[0m \u001b[0mfreq\u001b[0m\u001b[0;34m=\u001b[0m\u001b[0;34m'D'\u001b[0m\u001b[0;34m)\u001b[0m\u001b[0;34m\u001b[0m\u001b[0;34m\u001b[0m\u001b[0m\n\u001b[0m\u001b[1;32m      6\u001b[0m \u001b[0;31m# result = result.asfreq('D')\u001b[0m\u001b[0;34m\u001b[0m\u001b[0;34m\u001b[0m\u001b[0;34m\u001b[0m\u001b[0m\n\u001b[1;32m      7\u001b[0m \u001b[0;31m# ts_low = [lambda x: math.log(x) for x in ts_low]\u001b[0m\u001b[0;34m\u001b[0m\u001b[0;34m\u001b[0m\u001b[0;34m\u001b[0m\u001b[0m\n",
      "\u001b[0;32m~/anaconda3/envs/qc_lean/lib/python3.6/site-packages/pandas/core/generic.py\u001b[0m in \u001b[0;36m__setattr__\u001b[0;34m(self, name, value)\u001b[0m\n\u001b[1;32m   5190\u001b[0m         \u001b[0;32mtry\u001b[0m\u001b[0;34m:\u001b[0m\u001b[0;34m\u001b[0m\u001b[0;34m\u001b[0m\u001b[0m\n\u001b[1;32m   5191\u001b[0m             \u001b[0mobject\u001b[0m\u001b[0;34m.\u001b[0m\u001b[0m__getattribute__\u001b[0m\u001b[0;34m(\u001b[0m\u001b[0mself\u001b[0m\u001b[0;34m,\u001b[0m \u001b[0mname\u001b[0m\u001b[0;34m)\u001b[0m\u001b[0;34m\u001b[0m\u001b[0;34m\u001b[0m\u001b[0m\n\u001b[0;32m-> 5192\u001b[0;31m             \u001b[0;32mreturn\u001b[0m \u001b[0mobject\u001b[0m\u001b[0;34m.\u001b[0m\u001b[0m__setattr__\u001b[0m\u001b[0;34m(\u001b[0m\u001b[0mself\u001b[0m\u001b[0;34m,\u001b[0m \u001b[0mname\u001b[0m\u001b[0;34m,\u001b[0m \u001b[0mvalue\u001b[0m\u001b[0;34m)\u001b[0m\u001b[0;34m\u001b[0m\u001b[0;34m\u001b[0m\u001b[0m\n\u001b[0m\u001b[1;32m   5193\u001b[0m         \u001b[0;32mexcept\u001b[0m \u001b[0mAttributeError\u001b[0m\u001b[0;34m:\u001b[0m\u001b[0;34m\u001b[0m\u001b[0;34m\u001b[0m\u001b[0m\n\u001b[1;32m   5194\u001b[0m             \u001b[0;32mpass\u001b[0m\u001b[0;34m\u001b[0m\u001b[0;34m\u001b[0m\u001b[0m\n",
      "\u001b[0;32mpandas/_libs/properties.pyx\u001b[0m in \u001b[0;36mpandas._libs.properties.AxisProperty.__set__\u001b[0;34m()\u001b[0m\n",
      "\u001b[0;32m~/anaconda3/envs/qc_lean/lib/python3.6/site-packages/pandas/core/generic.py\u001b[0m in \u001b[0;36m_set_axis\u001b[0;34m(self, axis, labels)\u001b[0m\n\u001b[1;32m    688\u001b[0m \u001b[0;34m\u001b[0m\u001b[0m\n\u001b[1;32m    689\u001b[0m     \u001b[0;32mdef\u001b[0m \u001b[0m_set_axis\u001b[0m\u001b[0;34m(\u001b[0m\u001b[0mself\u001b[0m\u001b[0;34m,\u001b[0m \u001b[0maxis\u001b[0m\u001b[0;34m,\u001b[0m \u001b[0mlabels\u001b[0m\u001b[0;34m)\u001b[0m\u001b[0;34m:\u001b[0m\u001b[0;34m\u001b[0m\u001b[0;34m\u001b[0m\u001b[0m\n\u001b[0;32m--> 690\u001b[0;31m         \u001b[0mself\u001b[0m\u001b[0;34m.\u001b[0m\u001b[0m_data\u001b[0m\u001b[0;34m.\u001b[0m\u001b[0mset_axis\u001b[0m\u001b[0;34m(\u001b[0m\u001b[0maxis\u001b[0m\u001b[0;34m,\u001b[0m \u001b[0mlabels\u001b[0m\u001b[0;34m)\u001b[0m\u001b[0;34m\u001b[0m\u001b[0;34m\u001b[0m\u001b[0m\n\u001b[0m\u001b[1;32m    691\u001b[0m         \u001b[0mself\u001b[0m\u001b[0;34m.\u001b[0m\u001b[0m_clear_item_cache\u001b[0m\u001b[0;34m(\u001b[0m\u001b[0;34m)\u001b[0m\u001b[0;34m\u001b[0m\u001b[0;34m\u001b[0m\u001b[0m\n\u001b[1;32m    692\u001b[0m \u001b[0;34m\u001b[0m\u001b[0m\n",
      "\u001b[0;32m~/anaconda3/envs/qc_lean/lib/python3.6/site-packages/pandas/core/internals/managers.py\u001b[0m in \u001b[0;36mset_axis\u001b[0;34m(self, axis, new_labels)\u001b[0m\n\u001b[1;32m    181\u001b[0m             raise ValueError(\n\u001b[1;32m    182\u001b[0m                 \u001b[0;34m\"Length mismatch: Expected axis has {old} elements, new \"\u001b[0m\u001b[0;34m\u001b[0m\u001b[0;34m\u001b[0m\u001b[0m\n\u001b[0;32m--> 183\u001b[0;31m                 \u001b[0;34m\"values have {new} elements\"\u001b[0m\u001b[0;34m.\u001b[0m\u001b[0mformat\u001b[0m\u001b[0;34m(\u001b[0m\u001b[0mold\u001b[0m\u001b[0;34m=\u001b[0m\u001b[0mold_len\u001b[0m\u001b[0;34m,\u001b[0m \u001b[0mnew\u001b[0m\u001b[0;34m=\u001b[0m\u001b[0mnew_len\u001b[0m\u001b[0;34m)\u001b[0m\u001b[0;34m\u001b[0m\u001b[0;34m\u001b[0m\u001b[0m\n\u001b[0m\u001b[1;32m    184\u001b[0m             )\n\u001b[1;32m    185\u001b[0m \u001b[0;34m\u001b[0m\u001b[0m\n",
      "\u001b[0;31mValueError\u001b[0m: Length mismatch: Expected axis has 1200 elements, new values have 1 elements"
     ]
    }
   ],
   "source": [
    "#convert data to log\n",
    "ts_low = df_model['yest_low'].values\n",
    "value = [math.log(x) for x in ts_low]\n",
    "result = pd.DataFrame(value)\n",
    "result.index = pd.date_range(start=0, end= len(result), freq='D')\n",
    "# result = result.asfreq('D')    \n",
    "# ts_low = [lambda x: math.log(x) for x in ts_low]\n",
    "# ts_low\n",
    "result"
   ]
  },
  {
   "cell_type": "code",
   "execution_count": 75,
   "id": "rising-extra",
   "metadata": {},
   "outputs": [
    {
     "data": {
      "text/plain": [
       "['Cat', 'Dog', 'Cow']"
      ]
     },
     "execution_count": 75,
     "metadata": {},
     "output_type": "execute_result"
    }
   ],
   "source": [
    "[x.capitalize() for x in ['cat', 'dog', 'cow']]"
   ]
  },
  {
   "cell_type": "code",
   "execution_count": 70,
   "id": "domestic-enforcement",
   "metadata": {},
   "outputs": [
    {
     "ename": "TypeError",
     "evalue": "'<' not supported between instances of 'Timestamp' and 'int'",
     "output_type": "error",
     "traceback": [
      "\u001b[0;31m---------------------------------------------------------------------------\u001b[0m",
      "\u001b[0;31mTypeError\u001b[0m                                 Traceback (most recent call last)",
      "\u001b[0;32m<ipython-input-70-3ba248cf7376>\u001b[0m in \u001b[0;36m<module>\u001b[0;34m\u001b[0m\n\u001b[1;32m      1\u001b[0m \u001b[0mts_low\u001b[0m \u001b[0;34m=\u001b[0m \u001b[0mts_low\u001b[0m\u001b[0;34m.\u001b[0m\u001b[0mreset_index\u001b[0m\u001b[0;34m(\u001b[0m\u001b[0;34m)\u001b[0m\u001b[0;34m\u001b[0m\u001b[0;34m\u001b[0m\u001b[0m\n\u001b[0;32m----> 2\u001b[0;31m \u001b[0mts_low\u001b[0m \u001b[0;34m=\u001b[0m \u001b[0mts_low\u001b[0m\u001b[0;34m.\u001b[0m\u001b[0masfreq\u001b[0m\u001b[0;34m(\u001b[0m\u001b[0;34m'D'\u001b[0m\u001b[0;34m,\u001b[0m \u001b[0mmethod\u001b[0m \u001b[0;34m=\u001b[0m \u001b[0;34m'ffill'\u001b[0m\u001b[0;34m)\u001b[0m\u001b[0;34m\u001b[0m\u001b[0;34m\u001b[0m\u001b[0m\n\u001b[0m",
      "\u001b[0;32m~/anaconda3/envs/qc_lean/lib/python3.6/site-packages/pandas/core/generic.py\u001b[0m in \u001b[0;36masfreq\u001b[0;34m(self, freq, method, how, normalize, fill_value)\u001b[0m\n\u001b[1;32m   7997\u001b[0m             \u001b[0mhow\u001b[0m\u001b[0;34m=\u001b[0m\u001b[0mhow\u001b[0m\u001b[0;34m,\u001b[0m\u001b[0;34m\u001b[0m\u001b[0;34m\u001b[0m\u001b[0m\n\u001b[1;32m   7998\u001b[0m             \u001b[0mnormalize\u001b[0m\u001b[0;34m=\u001b[0m\u001b[0mnormalize\u001b[0m\u001b[0;34m,\u001b[0m\u001b[0;34m\u001b[0m\u001b[0;34m\u001b[0m\u001b[0m\n\u001b[0;32m-> 7999\u001b[0;31m             \u001b[0mfill_value\u001b[0m\u001b[0;34m=\u001b[0m\u001b[0mfill_value\u001b[0m\u001b[0;34m,\u001b[0m\u001b[0;34m\u001b[0m\u001b[0;34m\u001b[0m\u001b[0m\n\u001b[0m\u001b[1;32m   8000\u001b[0m         )\n\u001b[1;32m   8001\u001b[0m \u001b[0;34m\u001b[0m\u001b[0m\n",
      "\u001b[0;32m~/anaconda3/envs/qc_lean/lib/python3.6/site-packages/pandas/core/resample.py\u001b[0m in \u001b[0;36masfreq\u001b[0;34m(obj, freq, method, how, normalize, fill_value)\u001b[0m\n\u001b[1;32m   1830\u001b[0m         \u001b[0mdti\u001b[0m \u001b[0;34m=\u001b[0m \u001b[0mdate_range\u001b[0m\u001b[0;34m(\u001b[0m\u001b[0mobj\u001b[0m\u001b[0;34m.\u001b[0m\u001b[0mindex\u001b[0m\u001b[0;34m[\u001b[0m\u001b[0;36m0\u001b[0m\u001b[0;34m]\u001b[0m\u001b[0;34m,\u001b[0m \u001b[0mobj\u001b[0m\u001b[0;34m.\u001b[0m\u001b[0mindex\u001b[0m\u001b[0;34m[\u001b[0m\u001b[0;34m-\u001b[0m\u001b[0;36m1\u001b[0m\u001b[0;34m]\u001b[0m\u001b[0;34m,\u001b[0m \u001b[0mfreq\u001b[0m\u001b[0;34m=\u001b[0m\u001b[0mfreq\u001b[0m\u001b[0;34m)\u001b[0m\u001b[0;34m\u001b[0m\u001b[0;34m\u001b[0m\u001b[0m\n\u001b[1;32m   1831\u001b[0m         \u001b[0mdti\u001b[0m\u001b[0;34m.\u001b[0m\u001b[0mname\u001b[0m \u001b[0;34m=\u001b[0m \u001b[0mobj\u001b[0m\u001b[0;34m.\u001b[0m\u001b[0mindex\u001b[0m\u001b[0;34m.\u001b[0m\u001b[0mname\u001b[0m\u001b[0;34m\u001b[0m\u001b[0;34m\u001b[0m\u001b[0m\n\u001b[0;32m-> 1832\u001b[0;31m         \u001b[0mnew_obj\u001b[0m \u001b[0;34m=\u001b[0m \u001b[0mobj\u001b[0m\u001b[0;34m.\u001b[0m\u001b[0mreindex\u001b[0m\u001b[0;34m(\u001b[0m\u001b[0mdti\u001b[0m\u001b[0;34m,\u001b[0m \u001b[0mmethod\u001b[0m\u001b[0;34m=\u001b[0m\u001b[0mmethod\u001b[0m\u001b[0;34m,\u001b[0m \u001b[0mfill_value\u001b[0m\u001b[0;34m=\u001b[0m\u001b[0mfill_value\u001b[0m\u001b[0;34m)\u001b[0m\u001b[0;34m\u001b[0m\u001b[0;34m\u001b[0m\u001b[0m\n\u001b[0m\u001b[1;32m   1833\u001b[0m         \u001b[0;32mif\u001b[0m \u001b[0mnormalize\u001b[0m\u001b[0;34m:\u001b[0m\u001b[0;34m\u001b[0m\u001b[0;34m\u001b[0m\u001b[0m\n\u001b[1;32m   1834\u001b[0m             \u001b[0mnew_obj\u001b[0m\u001b[0;34m.\u001b[0m\u001b[0mindex\u001b[0m \u001b[0;34m=\u001b[0m \u001b[0mnew_obj\u001b[0m\u001b[0;34m.\u001b[0m\u001b[0mindex\u001b[0m\u001b[0;34m.\u001b[0m\u001b[0mnormalize\u001b[0m\u001b[0;34m(\u001b[0m\u001b[0;34m)\u001b[0m\u001b[0;34m\u001b[0m\u001b[0;34m\u001b[0m\u001b[0m\n",
      "\u001b[0;32m~/anaconda3/envs/qc_lean/lib/python3.6/site-packages/pandas/util/_decorators.py\u001b[0m in \u001b[0;36mwrapper\u001b[0;34m(*args, **kwargs)\u001b[0m\n\u001b[1;32m    219\u001b[0m         \u001b[0;34m@\u001b[0m\u001b[0mwraps\u001b[0m\u001b[0;34m(\u001b[0m\u001b[0mfunc\u001b[0m\u001b[0;34m)\u001b[0m\u001b[0;34m\u001b[0m\u001b[0;34m\u001b[0m\u001b[0m\n\u001b[1;32m    220\u001b[0m         \u001b[0;32mdef\u001b[0m \u001b[0mwrapper\u001b[0m\u001b[0;34m(\u001b[0m\u001b[0;34m*\u001b[0m\u001b[0margs\u001b[0m\u001b[0;34m,\u001b[0m \u001b[0;34m**\u001b[0m\u001b[0mkwargs\u001b[0m\u001b[0;34m)\u001b[0m\u001b[0;34m:\u001b[0m\u001b[0;34m\u001b[0m\u001b[0;34m\u001b[0m\u001b[0m\n\u001b[0;32m--> 221\u001b[0;31m             \u001b[0;32mreturn\u001b[0m \u001b[0mfunc\u001b[0m\u001b[0;34m(\u001b[0m\u001b[0;34m*\u001b[0m\u001b[0margs\u001b[0m\u001b[0;34m,\u001b[0m \u001b[0;34m**\u001b[0m\u001b[0mkwargs\u001b[0m\u001b[0;34m)\u001b[0m\u001b[0;34m\u001b[0m\u001b[0;34m\u001b[0m\u001b[0m\n\u001b[0m\u001b[1;32m    222\u001b[0m \u001b[0;34m\u001b[0m\u001b[0m\n\u001b[1;32m    223\u001b[0m         \u001b[0mkind\u001b[0m \u001b[0;34m=\u001b[0m \u001b[0minspect\u001b[0m\u001b[0;34m.\u001b[0m\u001b[0mParameter\u001b[0m\u001b[0;34m.\u001b[0m\u001b[0mPOSITIONAL_OR_KEYWORD\u001b[0m\u001b[0;34m\u001b[0m\u001b[0;34m\u001b[0m\u001b[0m\n",
      "\u001b[0;32m~/anaconda3/envs/qc_lean/lib/python3.6/site-packages/pandas/core/frame.py\u001b[0m in \u001b[0;36mreindex\u001b[0;34m(self, *args, **kwargs)\u001b[0m\n\u001b[1;32m   3974\u001b[0m         \u001b[0mkwargs\u001b[0m\u001b[0;34m.\u001b[0m\u001b[0mpop\u001b[0m\u001b[0;34m(\u001b[0m\u001b[0;34m\"axis\"\u001b[0m\u001b[0;34m,\u001b[0m \u001b[0;32mNone\u001b[0m\u001b[0;34m)\u001b[0m\u001b[0;34m\u001b[0m\u001b[0;34m\u001b[0m\u001b[0m\n\u001b[1;32m   3975\u001b[0m         \u001b[0mkwargs\u001b[0m\u001b[0;34m.\u001b[0m\u001b[0mpop\u001b[0m\u001b[0;34m(\u001b[0m\u001b[0;34m\"labels\"\u001b[0m\u001b[0;34m,\u001b[0m \u001b[0;32mNone\u001b[0m\u001b[0;34m)\u001b[0m\u001b[0;34m\u001b[0m\u001b[0;34m\u001b[0m\u001b[0m\n\u001b[0;32m-> 3976\u001b[0;31m         \u001b[0;32mreturn\u001b[0m \u001b[0msuper\u001b[0m\u001b[0;34m(\u001b[0m\u001b[0;34m)\u001b[0m\u001b[0;34m.\u001b[0m\u001b[0mreindex\u001b[0m\u001b[0;34m(\u001b[0m\u001b[0;34m**\u001b[0m\u001b[0mkwargs\u001b[0m\u001b[0;34m)\u001b[0m\u001b[0;34m\u001b[0m\u001b[0;34m\u001b[0m\u001b[0m\n\u001b[0m\u001b[1;32m   3977\u001b[0m \u001b[0;34m\u001b[0m\u001b[0m\n\u001b[1;32m   3978\u001b[0m     def drop(\n",
      "\u001b[0;32m~/anaconda3/envs/qc_lean/lib/python3.6/site-packages/pandas/core/generic.py\u001b[0m in \u001b[0;36mreindex\u001b[0;34m(self, *args, **kwargs)\u001b[0m\n\u001b[1;32m   4512\u001b[0m         \u001b[0;31m# perform the reindex on the axes\u001b[0m\u001b[0;34m\u001b[0m\u001b[0;34m\u001b[0m\u001b[0;34m\u001b[0m\u001b[0m\n\u001b[1;32m   4513\u001b[0m         return self._reindex_axes(\n\u001b[0;32m-> 4514\u001b[0;31m             \u001b[0maxes\u001b[0m\u001b[0;34m,\u001b[0m \u001b[0mlevel\u001b[0m\u001b[0;34m,\u001b[0m \u001b[0mlimit\u001b[0m\u001b[0;34m,\u001b[0m \u001b[0mtolerance\u001b[0m\u001b[0;34m,\u001b[0m \u001b[0mmethod\u001b[0m\u001b[0;34m,\u001b[0m \u001b[0mfill_value\u001b[0m\u001b[0;34m,\u001b[0m \u001b[0mcopy\u001b[0m\u001b[0;34m\u001b[0m\u001b[0;34m\u001b[0m\u001b[0m\n\u001b[0m\u001b[1;32m   4515\u001b[0m         ).__finalize__(self)\n\u001b[1;32m   4516\u001b[0m \u001b[0;34m\u001b[0m\u001b[0m\n",
      "\u001b[0;32m~/anaconda3/envs/qc_lean/lib/python3.6/site-packages/pandas/core/frame.py\u001b[0m in \u001b[0;36m_reindex_axes\u001b[0;34m(self, axes, level, limit, tolerance, method, fill_value, copy)\u001b[0m\n\u001b[1;32m   3862\u001b[0m         \u001b[0;32mif\u001b[0m \u001b[0mindex\u001b[0m \u001b[0;32mis\u001b[0m \u001b[0;32mnot\u001b[0m \u001b[0;32mNone\u001b[0m\u001b[0;34m:\u001b[0m\u001b[0;34m\u001b[0m\u001b[0;34m\u001b[0m\u001b[0m\n\u001b[1;32m   3863\u001b[0m             frame = frame._reindex_index(\n\u001b[0;32m-> 3864\u001b[0;31m                 \u001b[0mindex\u001b[0m\u001b[0;34m,\u001b[0m \u001b[0mmethod\u001b[0m\u001b[0;34m,\u001b[0m \u001b[0mcopy\u001b[0m\u001b[0;34m,\u001b[0m \u001b[0mlevel\u001b[0m\u001b[0;34m,\u001b[0m \u001b[0mfill_value\u001b[0m\u001b[0;34m,\u001b[0m \u001b[0mlimit\u001b[0m\u001b[0;34m,\u001b[0m \u001b[0mtolerance\u001b[0m\u001b[0;34m\u001b[0m\u001b[0;34m\u001b[0m\u001b[0m\n\u001b[0m\u001b[1;32m   3865\u001b[0m             )\n\u001b[1;32m   3866\u001b[0m \u001b[0;34m\u001b[0m\u001b[0m\n",
      "\u001b[0;32m~/anaconda3/envs/qc_lean/lib/python3.6/site-packages/pandas/core/frame.py\u001b[0m in \u001b[0;36m_reindex_index\u001b[0;34m(self, new_index, method, copy, level, fill_value, limit, tolerance)\u001b[0m\n\u001b[1;32m   3878\u001b[0m     ):\n\u001b[1;32m   3879\u001b[0m         new_index, indexer = self.index.reindex(\n\u001b[0;32m-> 3880\u001b[0;31m             \u001b[0mnew_index\u001b[0m\u001b[0;34m,\u001b[0m \u001b[0mmethod\u001b[0m\u001b[0;34m=\u001b[0m\u001b[0mmethod\u001b[0m\u001b[0;34m,\u001b[0m \u001b[0mlevel\u001b[0m\u001b[0;34m=\u001b[0m\u001b[0mlevel\u001b[0m\u001b[0;34m,\u001b[0m \u001b[0mlimit\u001b[0m\u001b[0;34m=\u001b[0m\u001b[0mlimit\u001b[0m\u001b[0;34m,\u001b[0m \u001b[0mtolerance\u001b[0m\u001b[0;34m=\u001b[0m\u001b[0mtolerance\u001b[0m\u001b[0;34m\u001b[0m\u001b[0;34m\u001b[0m\u001b[0m\n\u001b[0m\u001b[1;32m   3881\u001b[0m         )\n\u001b[1;32m   3882\u001b[0m         return self._reindex_with_indexers(\n",
      "\u001b[0;32m~/anaconda3/envs/qc_lean/lib/python3.6/site-packages/pandas/core/indexes/base.py\u001b[0m in \u001b[0;36mreindex\u001b[0;34m(self, target, method, level, limit, tolerance)\u001b[0m\n\u001b[1;32m   3406\u001b[0m                 \u001b[0;32mif\u001b[0m \u001b[0mself\u001b[0m\u001b[0;34m.\u001b[0m\u001b[0mis_unique\u001b[0m \u001b[0;32mand\u001b[0m \u001b[0;32mnot\u001b[0m \u001b[0mgetattr\u001b[0m\u001b[0;34m(\u001b[0m\u001b[0mself\u001b[0m\u001b[0;34m,\u001b[0m \u001b[0;34m\"is_overlapping\"\u001b[0m\u001b[0;34m,\u001b[0m \u001b[0;32mFalse\u001b[0m\u001b[0;34m)\u001b[0m\u001b[0;34m:\u001b[0m\u001b[0;34m\u001b[0m\u001b[0;34m\u001b[0m\u001b[0m\n\u001b[1;32m   3407\u001b[0m                     indexer = self.get_indexer(\n\u001b[0;32m-> 3408\u001b[0;31m                         \u001b[0mtarget\u001b[0m\u001b[0;34m,\u001b[0m \u001b[0mmethod\u001b[0m\u001b[0;34m=\u001b[0m\u001b[0mmethod\u001b[0m\u001b[0;34m,\u001b[0m \u001b[0mlimit\u001b[0m\u001b[0;34m=\u001b[0m\u001b[0mlimit\u001b[0m\u001b[0;34m,\u001b[0m \u001b[0mtolerance\u001b[0m\u001b[0;34m=\u001b[0m\u001b[0mtolerance\u001b[0m\u001b[0;34m\u001b[0m\u001b[0;34m\u001b[0m\u001b[0m\n\u001b[0m\u001b[1;32m   3409\u001b[0m                     )\n\u001b[1;32m   3410\u001b[0m                 \u001b[0;32melse\u001b[0m\u001b[0;34m:\u001b[0m\u001b[0;34m\u001b[0m\u001b[0;34m\u001b[0m\u001b[0m\n",
      "\u001b[0;32m~/anaconda3/envs/qc_lean/lib/python3.6/site-packages/pandas/core/indexes/range.py\u001b[0m in \u001b[0;36mget_indexer\u001b[0;34m(self, target, method, limit, tolerance)\u001b[0m\n\u001b[1;32m    383\u001b[0m         \u001b[0;32mif\u001b[0m \u001b[0mcom\u001b[0m\u001b[0;34m.\u001b[0m\u001b[0m_any_not_none\u001b[0m\u001b[0;34m(\u001b[0m\u001b[0mmethod\u001b[0m\u001b[0;34m,\u001b[0m \u001b[0mtolerance\u001b[0m\u001b[0;34m,\u001b[0m \u001b[0mlimit\u001b[0m\u001b[0;34m)\u001b[0m \u001b[0;32mor\u001b[0m \u001b[0;32mnot\u001b[0m \u001b[0mis_list_like\u001b[0m\u001b[0;34m(\u001b[0m\u001b[0mtarget\u001b[0m\u001b[0;34m)\u001b[0m\u001b[0;34m:\u001b[0m\u001b[0;34m\u001b[0m\u001b[0;34m\u001b[0m\u001b[0m\n\u001b[1;32m    384\u001b[0m             return super().get_indexer(\n\u001b[0;32m--> 385\u001b[0;31m                 \u001b[0mtarget\u001b[0m\u001b[0;34m,\u001b[0m \u001b[0mmethod\u001b[0m\u001b[0;34m=\u001b[0m\u001b[0mmethod\u001b[0m\u001b[0;34m,\u001b[0m \u001b[0mtolerance\u001b[0m\u001b[0;34m=\u001b[0m\u001b[0mtolerance\u001b[0m\u001b[0;34m,\u001b[0m \u001b[0mlimit\u001b[0m\u001b[0;34m=\u001b[0m\u001b[0mlimit\u001b[0m\u001b[0;34m\u001b[0m\u001b[0;34m\u001b[0m\u001b[0m\n\u001b[0m\u001b[1;32m    386\u001b[0m             )\n\u001b[1;32m    387\u001b[0m \u001b[0;34m\u001b[0m\u001b[0m\n",
      "\u001b[0;32m~/anaconda3/envs/qc_lean/lib/python3.6/site-packages/pandas/core/indexes/base.py\u001b[0m in \u001b[0;36mget_indexer\u001b[0;34m(self, target, method, limit, tolerance)\u001b[0m\n\u001b[1;32m   2978\u001b[0m             \u001b[0mtarget\u001b[0m \u001b[0;34m=\u001b[0m \u001b[0mtarget\u001b[0m\u001b[0;34m.\u001b[0m\u001b[0mastype\u001b[0m\u001b[0;34m(\u001b[0m\u001b[0mobject\u001b[0m\u001b[0;34m)\u001b[0m\u001b[0;34m\u001b[0m\u001b[0;34m\u001b[0m\u001b[0m\n\u001b[1;32m   2979\u001b[0m             return this.get_indexer(\n\u001b[0;32m-> 2980\u001b[0;31m                 \u001b[0mtarget\u001b[0m\u001b[0;34m,\u001b[0m \u001b[0mmethod\u001b[0m\u001b[0;34m=\u001b[0m\u001b[0mmethod\u001b[0m\u001b[0;34m,\u001b[0m \u001b[0mlimit\u001b[0m\u001b[0;34m=\u001b[0m\u001b[0mlimit\u001b[0m\u001b[0;34m,\u001b[0m \u001b[0mtolerance\u001b[0m\u001b[0;34m=\u001b[0m\u001b[0mtolerance\u001b[0m\u001b[0;34m\u001b[0m\u001b[0;34m\u001b[0m\u001b[0m\n\u001b[0m\u001b[1;32m   2981\u001b[0m             )\n\u001b[1;32m   2982\u001b[0m \u001b[0;34m\u001b[0m\u001b[0m\n",
      "\u001b[0;32m~/anaconda3/envs/qc_lean/lib/python3.6/site-packages/pandas/core/indexes/base.py\u001b[0m in \u001b[0;36mget_indexer\u001b[0;34m(self, target, method, limit, tolerance)\u001b[0m\n\u001b[1;32m   2987\u001b[0m \u001b[0;34m\u001b[0m\u001b[0m\n\u001b[1;32m   2988\u001b[0m         \u001b[0;32mif\u001b[0m \u001b[0mmethod\u001b[0m \u001b[0;34m==\u001b[0m \u001b[0;34m\"pad\"\u001b[0m \u001b[0;32mor\u001b[0m \u001b[0mmethod\u001b[0m \u001b[0;34m==\u001b[0m \u001b[0;34m\"backfill\"\u001b[0m\u001b[0;34m:\u001b[0m\u001b[0;34m\u001b[0m\u001b[0;34m\u001b[0m\u001b[0m\n\u001b[0;32m-> 2989\u001b[0;31m             \u001b[0mindexer\u001b[0m \u001b[0;34m=\u001b[0m \u001b[0mself\u001b[0m\u001b[0;34m.\u001b[0m\u001b[0m_get_fill_indexer\u001b[0m\u001b[0;34m(\u001b[0m\u001b[0mtarget\u001b[0m\u001b[0;34m,\u001b[0m \u001b[0mmethod\u001b[0m\u001b[0;34m,\u001b[0m \u001b[0mlimit\u001b[0m\u001b[0;34m,\u001b[0m \u001b[0mtolerance\u001b[0m\u001b[0;34m)\u001b[0m\u001b[0;34m\u001b[0m\u001b[0;34m\u001b[0m\u001b[0m\n\u001b[0m\u001b[1;32m   2990\u001b[0m         \u001b[0;32melif\u001b[0m \u001b[0mmethod\u001b[0m \u001b[0;34m==\u001b[0m \u001b[0;34m\"nearest\"\u001b[0m\u001b[0;34m:\u001b[0m\u001b[0;34m\u001b[0m\u001b[0;34m\u001b[0m\u001b[0m\n\u001b[1;32m   2991\u001b[0m             \u001b[0mindexer\u001b[0m \u001b[0;34m=\u001b[0m \u001b[0mself\u001b[0m\u001b[0;34m.\u001b[0m\u001b[0m_get_nearest_indexer\u001b[0m\u001b[0;34m(\u001b[0m\u001b[0mtarget\u001b[0m\u001b[0;34m,\u001b[0m \u001b[0mlimit\u001b[0m\u001b[0;34m,\u001b[0m \u001b[0mtolerance\u001b[0m\u001b[0;34m)\u001b[0m\u001b[0;34m\u001b[0m\u001b[0;34m\u001b[0m\u001b[0m\n",
      "\u001b[0;32m~/anaconda3/envs/qc_lean/lib/python3.6/site-packages/pandas/core/indexes/base.py\u001b[0m in \u001b[0;36m_get_fill_indexer\u001b[0;34m(self, target, method, limit, tolerance)\u001b[0m\n\u001b[1;32m   3020\u001b[0m                 \u001b[0;32melse\u001b[0m \u001b[0mself\u001b[0m\u001b[0;34m.\u001b[0m\u001b[0m_engine\u001b[0m\u001b[0;34m.\u001b[0m\u001b[0mget_backfill_indexer\u001b[0m\u001b[0;34m\u001b[0m\u001b[0;34m\u001b[0m\u001b[0m\n\u001b[1;32m   3021\u001b[0m             )\n\u001b[0;32m-> 3022\u001b[0;31m             \u001b[0mindexer\u001b[0m \u001b[0;34m=\u001b[0m \u001b[0mmethod\u001b[0m\u001b[0;34m(\u001b[0m\u001b[0mtarget\u001b[0m\u001b[0;34m.\u001b[0m\u001b[0m_ndarray_values\u001b[0m\u001b[0;34m,\u001b[0m \u001b[0mlimit\u001b[0m\u001b[0;34m)\u001b[0m\u001b[0;34m\u001b[0m\u001b[0;34m\u001b[0m\u001b[0m\n\u001b[0m\u001b[1;32m   3023\u001b[0m         \u001b[0;32melse\u001b[0m\u001b[0;34m:\u001b[0m\u001b[0;34m\u001b[0m\u001b[0;34m\u001b[0m\u001b[0m\n\u001b[1;32m   3024\u001b[0m             \u001b[0mindexer\u001b[0m \u001b[0;34m=\u001b[0m \u001b[0mself\u001b[0m\u001b[0;34m.\u001b[0m\u001b[0m_get_fill_indexer_searchsorted\u001b[0m\u001b[0;34m(\u001b[0m\u001b[0mtarget\u001b[0m\u001b[0;34m,\u001b[0m \u001b[0mmethod\u001b[0m\u001b[0;34m,\u001b[0m \u001b[0mlimit\u001b[0m\u001b[0;34m)\u001b[0m\u001b[0;34m\u001b[0m\u001b[0;34m\u001b[0m\u001b[0m\n",
      "\u001b[0;32mpandas/_libs/index.pyx\u001b[0m in \u001b[0;36mpandas._libs.index.IndexEngine.get_pad_indexer\u001b[0;34m()\u001b[0m\n",
      "\u001b[0;32mpandas/_libs/algos.pyx\u001b[0m in \u001b[0;36mpandas._libs.algos.pad\u001b[0;34m()\u001b[0m\n",
      "\u001b[0;31mTypeError\u001b[0m: '<' not supported between instances of 'Timestamp' and 'int'"
     ]
    }
   ],
   "source": [
    "ts_low = ts_low.reset_index()\n",
    "ts_low = ts_low.asfreq('D', method = 'ffill')"
   ]
  },
  {
   "cell_type": "code",
   "execution_count": 20,
   "id": "cleared-center",
   "metadata": {},
   "outputs": [
    {
     "data": {
      "text/plain": [
       "<AxesSubplot:xlabel='Lag', ylabel='Autocorrelation'>"
      ]
     },
     "execution_count": 20,
     "metadata": {},
     "output_type": "execute_result"
    },
    {
     "data": {
      "image/png": "[encoded data removed]",
      "text/plain": [
       "<Figure size 432x288 with 1 Axes>"
      ]
     },
     "metadata": {
      "needs_background": "light"
     },
     "output_type": "display_data"
    }
   ],
   "source": [
    "autocorrelation_plot(ts_low)\n"
   ]
  },
  {
   "cell_type": "code",
   "execution_count": 58,
   "id": "fuzzy-value",
   "metadata": {},
   "outputs": [
    {
     "data": {
      "text/plain": [
       "0       3.650658\n",
       "1       3.630456\n",
       "2       3.560193\n",
       "3       3.484312\n",
       "4       3.514526\n",
       "          ...   \n",
       "1195    3.816613\n",
       "1196    3.819030\n",
       "1197    3.795939\n",
       "1198    3.840742\n",
       "1199    3.843958\n",
       "Name: yest_low, Length: 1200, dtype: float64"
      ]
     },
     "execution_count": 58,
     "metadata": {},
     "output_type": "execute_result"
    }
   ],
   "source": [
    "ts_low"
   ]
  },
  {
   "cell_type": "code",
   "execution_count": 60,
   "id": "infinite-mistake",
   "metadata": {},
   "outputs": [
    {
     "data": {
      "text/plain": [
       "1"
      ]
     },
     "execution_count": 60,
     "metadata": {},
     "output_type": "execute_result"
    }
   ],
   "source": [
    "low_model = ARIMA(ts_low, order=(2,1,0)).fit()\n",
    "len(value)"
   ]
  },
  {
   "cell_type": "code",
   "execution_count": 61,
   "id": "administrative-garlic",
   "metadata": {},
   "outputs": [],
   "source": [
    "value = low_model.predict(start = 1199)"
   ]
  },
  {
   "cell_type": "code",
   "execution_count": 62,
   "id": "logical-renaissance",
   "metadata": {},
   "outputs": [
    {
     "data": {
      "text/plain": [
       "1199    46.54816\n",
       "dtype: float64"
      ]
     },
     "execution_count": 62,
     "metadata": {},
     "output_type": "execute_result"
    }
   ],
   "source": [
    "value.apply(math.exp)"
   ]
  },
  {
   "cell_type": "code",
   "execution_count": 16,
   "id": "acknowledged-techno",
   "metadata": {},
   "outputs": [
    {
     "name": "stderr",
     "output_type": "stream",
     "text": [
      "/home/jawang/anaconda3/envs/qc_lean/lib/python3.6/site-packages/statsmodels/base/model.py:568: ConvergenceWarning: Maximum Likelihood optimization failed to converge. Check mle_retvals\n",
      "  ConvergenceWarning)\n"
     ]
    }
   ],
   "source": [
    "\n",
    "\n",
    "low_model = ARIMA(ts_low, order=(150,20,1)).fit()"
   ]
  },
  {
   "cell_type": "code",
   "execution_count": 39,
   "id": "veterinary-inventory",
   "metadata": {},
   "outputs": [
    {
     "data": {
      "text/plain": [
       "array([43.535, 43.37 , 44.55 , 46.47 , 45.7  , 48.62 , 47.225, 47.28 ,\n",
       "       48.06 , 47.38 , 48.14 , 45.32 , 43.01 , 46.7  , 46.34 , 47.16 ,\n",
       "       47.58 , 48.08 , 50.75 , 49.03 , 49.01 , 48.93 , 47.83 , 47.745,\n",
       "       45.45 , 45.56 , 44.52 , 46.56 , 46.71 ,  0.   ])"
      ]
     },
     "execution_count": 39,
     "metadata": {},
     "output_type": "execute_result"
    }
   ],
   "source": [
    "a_low = df_final['low'].iloc[-30:].values\n",
    "a_low"
   ]
  },
  {
   "cell_type": "code",
   "execution_count": 51,
   "id": "ahead-mississippi",
   "metadata": {},
   "outputs": [
    {
     "data": {
      "text/html": [
       "<div>\n",
       "<style scoped>\n",
       "    .dataframe tbody tr th:only-of-type {\n",
       "        vertical-align: middle;\n",
       "    }\n",
       "\n",
       "    .dataframe tbody tr th {\n",
       "        vertical-align: top;\n",
       "    }\n",
       "\n",
       "    .dataframe thead th {\n",
       "        text-align: right;\n",
       "    }\n",
       "</style>\n",
       "<table border=\"1\" class=\"dataframe\">\n",
       "  <thead>\n",
       "    <tr style=\"text-align: right;\">\n",
       "      <th></th>\n",
       "      <th>date</th>\n",
       "      <th>open</th>\n",
       "      <th>high</th>\n",
       "      <th>low</th>\n",
       "      <th>close</th>\n",
       "      <th>volume</th>\n",
       "      <th>RSI</th>\n",
       "      <th>CMO</th>\n",
       "      <th>Moving Average</th>\n",
       "      <th>MACD</th>\n",
       "      <th>...</th>\n",
       "      <th>yest_high</th>\n",
       "      <th>yest_close</th>\n",
       "      <th>yest_open</th>\n",
       "      <th>yest_RSI</th>\n",
       "      <th>yest_CMO</th>\n",
       "      <th>yest_MA</th>\n",
       "      <th>yest_MACD</th>\n",
       "      <th>yest_MACD_signal</th>\n",
       "      <th>yest_ROC</th>\n",
       "      <th>yest_PPO</th>\n",
       "    </tr>\n",
       "  </thead>\n",
       "  <tbody>\n",
       "    <tr>\n",
       "      <th>0</th>\n",
       "      <td>2016-06-23</td>\n",
       "      <td>39.00</td>\n",
       "      <td>39.0700</td>\n",
       "      <td>37.73</td>\n",
       "      <td>38.31</td>\n",
       "      <td>10948559</td>\n",
       "      <td>31.368794</td>\n",
       "      <td>-37.262412</td>\n",
       "      <td>40.7380</td>\n",
       "      <td>-1.348783</td>\n",
       "      <td>...</td>\n",
       "      <td>39.1600</td>\n",
       "      <td>38.55</td>\n",
       "      <td>38.57</td>\n",
       "      <td>32.448271</td>\n",
       "      <td>-35.103458</td>\n",
       "      <td>40.9975</td>\n",
       "      <td>-1.347707</td>\n",
       "      <td>-1.092787</td>\n",
       "      <td>-7.885305</td>\n",
       "      <td>-4.067848</td>\n",
       "    </tr>\n",
       "    <tr>\n",
       "      <th>1</th>\n",
       "      <td>2016-06-24</td>\n",
       "      <td>36.09</td>\n",
       "      <td>37.0800</td>\n",
       "      <td>35.17</td>\n",
       "      <td>35.18</td>\n",
       "      <td>26087127</td>\n",
       "      <td>21.379463</td>\n",
       "      <td>-57.241074</td>\n",
       "      <td>40.3590</td>\n",
       "      <td>-1.583942</td>\n",
       "      <td>...</td>\n",
       "      <td>39.0700</td>\n",
       "      <td>38.31</td>\n",
       "      <td>39.00</td>\n",
       "      <td>31.368794</td>\n",
       "      <td>-37.262412</td>\n",
       "      <td>40.7380</td>\n",
       "      <td>-1.348783</td>\n",
       "      <td>-1.143986</td>\n",
       "      <td>-9.646226</td>\n",
       "      <td>-4.353428</td>\n",
       "    </tr>\n",
       "    <tr>\n",
       "      <th>2</th>\n",
       "      <td>2016-06-27</td>\n",
       "      <td>34.84</td>\n",
       "      <td>34.9400</td>\n",
       "      <td>32.60</td>\n",
       "      <td>33.36</td>\n",
       "      <td>28600221</td>\n",
       "      <td>17.824960</td>\n",
       "      <td>-64.350080</td>\n",
       "      <td>39.8710</td>\n",
       "      <td>-1.895318</td>\n",
       "      <td>...</td>\n",
       "      <td>37.0800</td>\n",
       "      <td>35.18</td>\n",
       "      <td>36.09</td>\n",
       "      <td>21.379463</td>\n",
       "      <td>-57.241074</td>\n",
       "      <td>40.3590</td>\n",
       "      <td>-1.583942</td>\n",
       "      <td>-1.231977</td>\n",
       "      <td>-16.317793</td>\n",
       "      <td>-4.930190</td>\n",
       "    </tr>\n",
       "    <tr>\n",
       "      <th>3</th>\n",
       "      <td>2016-06-28</td>\n",
       "      <td>34.27</td>\n",
       "      <td>34.6700</td>\n",
       "      <td>33.60</td>\n",
       "      <td>34.67</td>\n",
       "      <td>19673879</td>\n",
       "      <td>27.206216</td>\n",
       "      <td>-45.587568</td>\n",
       "      <td>39.4315</td>\n",
       "      <td>-2.013173</td>\n",
       "      <td>...</td>\n",
       "      <td>34.9400</td>\n",
       "      <td>33.36</td>\n",
       "      <td>34.84</td>\n",
       "      <td>17.824960</td>\n",
       "      <td>-64.350080</td>\n",
       "      <td>39.8710</td>\n",
       "      <td>-1.895318</td>\n",
       "      <td>-1.364645</td>\n",
       "      <td>-17.771753</td>\n",
       "      <td>-5.907668</td>\n",
       "    </tr>\n",
       "    <tr>\n",
       "      <th>4</th>\n",
       "      <td>2016-06-29</td>\n",
       "      <td>35.40</td>\n",
       "      <td>36.3750</td>\n",
       "      <td>34.91</td>\n",
       "      <td>36.24</td>\n",
       "      <td>15059708</td>\n",
       "      <td>36.554556</td>\n",
       "      <td>-26.890887</td>\n",
       "      <td>39.0680</td>\n",
       "      <td>-1.957325</td>\n",
       "      <td>...</td>\n",
       "      <td>34.6700</td>\n",
       "      <td>34.67</td>\n",
       "      <td>34.27</td>\n",
       "      <td>27.206216</td>\n",
       "      <td>-45.587568</td>\n",
       "      <td>39.4315</td>\n",
       "      <td>-2.013173</td>\n",
       "      <td>-1.494351</td>\n",
       "      <td>-11.352595</td>\n",
       "      <td>-6.674459</td>\n",
       "    </tr>\n",
       "    <tr>\n",
       "      <th>...</th>\n",
       "      <td>...</td>\n",
       "      <td>...</td>\n",
       "      <td>...</td>\n",
       "      <td>...</td>\n",
       "      <td>...</td>\n",
       "      <td>...</td>\n",
       "      <td>...</td>\n",
       "      <td>...</td>\n",
       "      <td>...</td>\n",
       "      <td>...</td>\n",
       "      <td>...</td>\n",
       "      <td>...</td>\n",
       "      <td>...</td>\n",
       "      <td>...</td>\n",
       "      <td>...</td>\n",
       "      <td>...</td>\n",
       "      <td>...</td>\n",
       "      <td>...</td>\n",
       "      <td>...</td>\n",
       "      <td>...</td>\n",
       "      <td>...</td>\n",
       "    </tr>\n",
       "    <tr>\n",
       "      <th>1195</th>\n",
       "      <td>2021-03-24</td>\n",
       "      <td>46.54</td>\n",
       "      <td>47.3999</td>\n",
       "      <td>45.56</td>\n",
       "      <td>45.61</td>\n",
       "      <td>12120762</td>\n",
       "      <td>44.095482</td>\n",
       "      <td>-11.809035</td>\n",
       "      <td>48.1835</td>\n",
       "      <td>0.740670</td>\n",
       "      <td>...</td>\n",
       "      <td>47.8300</td>\n",
       "      <td>45.64</td>\n",
       "      <td>47.02</td>\n",
       "      <td>44.199608</td>\n",
       "      <td>-11.600784</td>\n",
       "      <td>48.3830</td>\n",
       "      <td>1.025653</td>\n",
       "      <td>1.499144</td>\n",
       "      <td>-4.157917</td>\n",
       "      <td>1.821113</td>\n",
       "    </tr>\n",
       "    <tr>\n",
       "      <th>1196</th>\n",
       "      <td>2021-03-25</td>\n",
       "      <td>44.79</td>\n",
       "      <td>47.2150</td>\n",
       "      <td>44.52</td>\n",
       "      <td>47.01</td>\n",
       "      <td>14469133</td>\n",
       "      <td>50.013588</td>\n",
       "      <td>0.027176</td>\n",
       "      <td>48.1215</td>\n",
       "      <td>0.620632</td>\n",
       "      <td>...</td>\n",
       "      <td>47.3999</td>\n",
       "      <td>45.61</td>\n",
       "      <td>46.54</td>\n",
       "      <td>44.095482</td>\n",
       "      <td>-11.809035</td>\n",
       "      <td>48.1835</td>\n",
       "      <td>0.740670</td>\n",
       "      <td>1.347449</td>\n",
       "      <td>-4.581590</td>\n",
       "      <td>1.347092</td>\n",
       "    </tr>\n",
       "    <tr>\n",
       "      <th>1197</th>\n",
       "      <td>2021-03-26</td>\n",
       "      <td>47.50</td>\n",
       "      <td>47.9400</td>\n",
       "      <td>46.56</td>\n",
       "      <td>47.66</td>\n",
       "      <td>12361407</td>\n",
       "      <td>52.526389</td>\n",
       "      <td>5.052778</td>\n",
       "      <td>48.1075</td>\n",
       "      <td>0.571365</td>\n",
       "      <td>...</td>\n",
       "      <td>47.2150</td>\n",
       "      <td>47.01</td>\n",
       "      <td>44.79</td>\n",
       "      <td>50.013588</td>\n",
       "      <td>0.027176</td>\n",
       "      <td>48.1215</td>\n",
       "      <td>0.620632</td>\n",
       "      <td>1.202086</td>\n",
       "      <td>-2.711093</td>\n",
       "      <td>1.028019</td>\n",
       "    </tr>\n",
       "    <tr>\n",
       "      <th>1198</th>\n",
       "      <td>2021-03-29</td>\n",
       "      <td>47.66</td>\n",
       "      <td>48.1000</td>\n",
       "      <td>46.71</td>\n",
       "      <td>47.32</td>\n",
       "      <td>9824194</td>\n",
       "      <td>51.079928</td>\n",
       "      <td>2.159856</td>\n",
       "      <td>48.0705</td>\n",
       "      <td>0.499132</td>\n",
       "      <td>...</td>\n",
       "      <td>47.9400</td>\n",
       "      <td>47.66</td>\n",
       "      <td>47.50</td>\n",
       "      <td>52.526389</td>\n",
       "      <td>5.052778</td>\n",
       "      <td>48.1075</td>\n",
       "      <td>0.571365</td>\n",
       "      <td>1.075942</td>\n",
       "      <td>-4.354806</td>\n",
       "      <td>0.738583</td>\n",
       "    </tr>\n",
       "    <tr>\n",
       "      <th>1199</th>\n",
       "      <td>2021-03-30</td>\n",
       "      <td>47.66</td>\n",
       "      <td>0.0000</td>\n",
       "      <td>0.00</td>\n",
       "      <td>0.00</td>\n",
       "      <td>0</td>\n",
       "      <td>0.000000</td>\n",
       "      <td>0.000000</td>\n",
       "      <td>0.0000</td>\n",
       "      <td>0.000000</td>\n",
       "      <td>...</td>\n",
       "      <td>48.1000</td>\n",
       "      <td>47.32</td>\n",
       "      <td>47.66</td>\n",
       "      <td>51.079928</td>\n",
       "      <td>2.159856</td>\n",
       "      <td>48.0705</td>\n",
       "      <td>0.499132</td>\n",
       "      <td>0.960580</td>\n",
       "      <td>-7.197490</td>\n",
       "      <td>0.432603</td>\n",
       "    </tr>\n",
       "  </tbody>\n",
       "</table>\n",
       "<p>1200 rows × 25 columns</p>\n",
       "</div>"
      ],
      "text/plain": [
       "           date   open     high    low  close    volume        RSI        CMO  \\\n",
       "0    2016-06-23  39.00  39.0700  37.73  38.31  10948559  31.368794 -37.262412   \n",
       "1    2016-06-24  36.09  37.0800  35.17  35.18  26087127  21.379463 -57.241074   \n",
       "2    2016-06-27  34.84  34.9400  32.60  33.36  28600221  17.824960 -64.350080   \n",
       "3    2016-06-28  34.27  34.6700  33.60  34.67  19673879  27.206216 -45.587568   \n",
       "4    2016-06-29  35.40  36.3750  34.91  36.24  15059708  36.554556 -26.890887   \n",
       "...         ...    ...      ...    ...    ...       ...        ...        ...   \n",
       "1195 2021-03-24  46.54  47.3999  45.56  45.61  12120762  44.095482 -11.809035   \n",
       "1196 2021-03-25  44.79  47.2150  44.52  47.01  14469133  50.013588   0.027176   \n",
       "1197 2021-03-26  47.50  47.9400  46.56  47.66  12361407  52.526389   5.052778   \n",
       "1198 2021-03-29  47.66  48.1000  46.71  47.32   9824194  51.079928   2.159856   \n",
       "1199 2021-03-30  47.66   0.0000   0.00   0.00         0   0.000000   0.000000   \n",
       "\n",
       "      Moving Average      MACD  ...  yest_high  yest_close  yest_open  \\\n",
       "0            40.7380 -1.348783  ...    39.1600       38.55      38.57   \n",
       "1            40.3590 -1.583942  ...    39.0700       38.31      39.00   \n",
       "2            39.8710 -1.895318  ...    37.0800       35.18      36.09   \n",
       "3            39.4315 -2.013173  ...    34.9400       33.36      34.84   \n",
       "4            39.0680 -1.957325  ...    34.6700       34.67      34.27   \n",
       "...              ...       ...  ...        ...         ...        ...   \n",
       "1195         48.1835  0.740670  ...    47.8300       45.64      47.02   \n",
       "1196         48.1215  0.620632  ...    47.3999       45.61      46.54   \n",
       "1197         48.1075  0.571365  ...    47.2150       47.01      44.79   \n",
       "1198         48.0705  0.499132  ...    47.9400       47.66      47.50   \n",
       "1199          0.0000  0.000000  ...    48.1000       47.32      47.66   \n",
       "\n",
       "       yest_RSI   yest_CMO  yest_MA  yest_MACD  yest_MACD_signal   yest_ROC  \\\n",
       "0     32.448271 -35.103458  40.9975  -1.347707         -1.092787  -7.885305   \n",
       "1     31.368794 -37.262412  40.7380  -1.348783         -1.143986  -9.646226   \n",
       "2     21.379463 -57.241074  40.3590  -1.583942         -1.231977 -16.317793   \n",
       "3     17.824960 -64.350080  39.8710  -1.895318         -1.364645 -17.771753   \n",
       "4     27.206216 -45.587568  39.4315  -2.013173         -1.494351 -11.352595   \n",
       "...         ...        ...      ...        ...               ...        ...   \n",
       "1195  44.199608 -11.600784  48.3830   1.025653          1.499144  -4.157917   \n",
       "1196  44.095482 -11.809035  48.1835   0.740670          1.347449  -4.581590   \n",
       "1197  50.013588   0.027176  48.1215   0.620632          1.202086  -2.711093   \n",
       "1198  52.526389   5.052778  48.1075   0.571365          1.075942  -4.354806   \n",
       "1199  51.079928   2.159856  48.0705   0.499132          0.960580  -7.197490   \n",
       "\n",
       "      yest_PPO  \n",
       "0    -4.067848  \n",
       "1    -4.353428  \n",
       "2    -4.930190  \n",
       "3    -5.907668  \n",
       "4    -6.674459  \n",
       "...        ...  \n",
       "1195  1.821113  \n",
       "1196  1.347092  \n",
       "1197  1.028019  \n",
       "1198  0.738583  \n",
       "1199  0.432603  \n",
       "\n",
       "[1200 rows x 25 columns]"
      ]
     },
     "execution_count": 51,
     "metadata": {},
     "output_type": "execute_result"
    }
   ],
   "source": [
    "df_final\n"
   ]
  },
  {
   "cell_type": "code",
   "execution_count": 45,
   "id": "frank-private",
   "metadata": {},
   "outputs": [],
   "source": [
    "def Daily_Low(df_model, test_window = 30):\n",
    "\n",
    "    pred_low = []\n",
    "\n",
    "    #convert data to log\n",
    "    ts_low = df_model['yest_low']\n",
    "    ts_low = ts_low.apply(math.log)\n",
    "\n",
    "    #fill in missing data for missing dates \n",
    "    low_model = ARIMA(ts_low, order=(2,1,0)).fit()\n",
    "\n",
    "    for i in range(test_window):\n",
    "        low_model = ARIMA(ts_low[:-test_window+i], order=(2,20,1)).fit()\n",
    "        pred_value = low_model.predict(start=len(ts_low)-test_window+i)\n",
    "        pred_low.append(pred_value)\n",
    "\n",
    "    a_low = df_final['low'].iloc[-test_window:].values\n",
    "    close_lst = df_final['close'].iloc[-test_window:].values\n",
    "    open_lst = df_final['open'].iloc[-test_window:].values\n",
    "    dates = df_final.index[-test_window:]\n",
    "\n",
    "\n",
    "    d = {'dates':dates,'actual_low': a_low, 'pred_low':pred_low, 'close': close_lst, 'open':open_lst}\n",
    "\n",
    "    results = pd.DataFrame(d)\n",
    "    # results['open_minus_pred'] = results['open'] - results['pred_close']\n",
    "    # results['actual_minus_pred'] = results['actual']-results['pred_close']\n",
    "    results['off_by'] = results['pred_low']-results['actual_low']\n",
    "\n",
    "    results['return'] = results['close'] - results['pred_low']\n",
    "\n",
    "    return results"
   ]
  },
  {
   "cell_type": "code",
   "execution_count": 46,
   "id": "municipal-mount",
   "metadata": {},
   "outputs": [
    {
     "name": "stderr",
     "output_type": "stream",
     "text": [
      "/home/jawang/anaconda3/envs/qc_lean/lib/python3.6/site-packages/statsmodels/base/model.py:568: ConvergenceWarning: Maximum Likelihood optimization failed to converge. Check mle_retvals\n",
      "  ConvergenceWarning)\n",
      "/home/jawang/anaconda3/envs/qc_lean/lib/python3.6/site-packages/statsmodels/base/model.py:568: ConvergenceWarning: Maximum Likelihood optimization failed to converge. Check mle_retvals\n",
      "  ConvergenceWarning)\n",
      "/home/jawang/anaconda3/envs/qc_lean/lib/python3.6/site-packages/statsmodels/base/model.py:568: ConvergenceWarning: Maximum Likelihood optimization failed to converge. Check mle_retvals\n",
      "  ConvergenceWarning)\n",
      "/home/jawang/anaconda3/envs/qc_lean/lib/python3.6/site-packages/statsmodels/base/model.py:568: ConvergenceWarning: Maximum Likelihood optimization failed to converge. Check mle_retvals\n",
      "  ConvergenceWarning)\n",
      "/home/jawang/anaconda3/envs/qc_lean/lib/python3.6/site-packages/statsmodels/base/model.py:568: ConvergenceWarning: Maximum Likelihood optimization failed to converge. Check mle_retvals\n",
      "  ConvergenceWarning)\n",
      "/home/jawang/anaconda3/envs/qc_lean/lib/python3.6/site-packages/statsmodels/base/model.py:568: ConvergenceWarning: Maximum Likelihood optimization failed to converge. Check mle_retvals\n",
      "  ConvergenceWarning)\n",
      "/home/jawang/anaconda3/envs/qc_lean/lib/python3.6/site-packages/statsmodels/base/model.py:568: ConvergenceWarning: Maximum Likelihood optimization failed to converge. Check mle_retvals\n",
      "  ConvergenceWarning)\n",
      "/home/jawang/anaconda3/envs/qc_lean/lib/python3.6/site-packages/statsmodels/base/model.py:568: ConvergenceWarning: Maximum Likelihood optimization failed to converge. Check mle_retvals\n",
      "  ConvergenceWarning)\n",
      "/home/jawang/anaconda3/envs/qc_lean/lib/python3.6/site-packages/statsmodels/base/model.py:568: ConvergenceWarning: Maximum Likelihood optimization failed to converge. Check mle_retvals\n",
      "  ConvergenceWarning)\n",
      "/home/jawang/anaconda3/envs/qc_lean/lib/python3.6/site-packages/statsmodels/base/model.py:568: ConvergenceWarning: Maximum Likelihood optimization failed to converge. Check mle_retvals\n",
      "  ConvergenceWarning)\n",
      "/home/jawang/anaconda3/envs/qc_lean/lib/python3.6/site-packages/statsmodels/base/model.py:568: ConvergenceWarning: Maximum Likelihood optimization failed to converge. Check mle_retvals\n",
      "  ConvergenceWarning)\n",
      "/home/jawang/anaconda3/envs/qc_lean/lib/python3.6/site-packages/statsmodels/base/model.py:568: ConvergenceWarning: Maximum Likelihood optimization failed to converge. Check mle_retvals\n",
      "  ConvergenceWarning)\n",
      "/home/jawang/anaconda3/envs/qc_lean/lib/python3.6/site-packages/statsmodels/base/model.py:568: ConvergenceWarning: Maximum Likelihood optimization failed to converge. Check mle_retvals\n",
      "  ConvergenceWarning)\n",
      "/home/jawang/anaconda3/envs/qc_lean/lib/python3.6/site-packages/statsmodels/base/model.py:568: ConvergenceWarning: Maximum Likelihood optimization failed to converge. Check mle_retvals\n",
      "  ConvergenceWarning)\n",
      "/home/jawang/anaconda3/envs/qc_lean/lib/python3.6/site-packages/statsmodels/base/model.py:568: ConvergenceWarning: Maximum Likelihood optimization failed to converge. Check mle_retvals\n",
      "  ConvergenceWarning)\n",
      "/home/jawang/anaconda3/envs/qc_lean/lib/python3.6/site-packages/statsmodels/base/model.py:568: ConvergenceWarning: Maximum Likelihood optimization failed to converge. Check mle_retvals\n",
      "  ConvergenceWarning)\n",
      "/home/jawang/anaconda3/envs/qc_lean/lib/python3.6/site-packages/statsmodels/base/model.py:568: ConvergenceWarning: Maximum Likelihood optimization failed to converge. Check mle_retvals\n",
      "  ConvergenceWarning)\n",
      "/home/jawang/anaconda3/envs/qc_lean/lib/python3.6/site-packages/statsmodels/base/model.py:568: ConvergenceWarning: Maximum Likelihood optimization failed to converge. Check mle_retvals\n",
      "  ConvergenceWarning)\n",
      "/home/jawang/anaconda3/envs/qc_lean/lib/python3.6/site-packages/statsmodels/base/model.py:568: ConvergenceWarning: Maximum Likelihood optimization failed to converge. Check mle_retvals\n",
      "  ConvergenceWarning)\n",
      "/home/jawang/anaconda3/envs/qc_lean/lib/python3.6/site-packages/statsmodels/base/model.py:568: ConvergenceWarning: Maximum Likelihood optimization failed to converge. Check mle_retvals\n",
      "  ConvergenceWarning)\n",
      "/home/jawang/anaconda3/envs/qc_lean/lib/python3.6/site-packages/statsmodels/base/model.py:568: ConvergenceWarning: Maximum Likelihood optimization failed to converge. Check mle_retvals\n",
      "  ConvergenceWarning)\n",
      "/home/jawang/anaconda3/envs/qc_lean/lib/python3.6/site-packages/statsmodels/base/model.py:568: ConvergenceWarning: Maximum Likelihood optimization failed to converge. Check mle_retvals\n",
      "  ConvergenceWarning)\n",
      "/home/jawang/anaconda3/envs/qc_lean/lib/python3.6/site-packages/statsmodels/base/model.py:568: ConvergenceWarning: Maximum Likelihood optimization failed to converge. Check mle_retvals\n",
      "  ConvergenceWarning)\n",
      "/home/jawang/anaconda3/envs/qc_lean/lib/python3.6/site-packages/statsmodels/base/model.py:568: ConvergenceWarning: Maximum Likelihood optimization failed to converge. Check mle_retvals\n",
      "  ConvergenceWarning)\n",
      "/home/jawang/anaconda3/envs/qc_lean/lib/python3.6/site-packages/statsmodels/base/model.py:568: ConvergenceWarning: Maximum Likelihood optimization failed to converge. Check mle_retvals\n",
      "  ConvergenceWarning)\n",
      "/home/jawang/anaconda3/envs/qc_lean/lib/python3.6/site-packages/statsmodels/base/model.py:568: ConvergenceWarning: Maximum Likelihood optimization failed to converge. Check mle_retvals\n",
      "  ConvergenceWarning)\n"
     ]
    },
    {
     "ename": "AttributeError",
     "evalue": "'RangeIndex' object has no attribute 'iloc'",
     "output_type": "error",
     "traceback": [
      "\u001b[0;31m---------------------------------------------------------------------------\u001b[0m",
      "\u001b[0;31mAttributeError\u001b[0m                            Traceback (most recent call last)",
      "\u001b[0;32m<ipython-input-46-1e646cf71ce6>\u001b[0m in \u001b[0;36m<module>\u001b[0;34m\u001b[0m\n\u001b[0;32m----> 1\u001b[0;31m \u001b[0mDaily_Low\u001b[0m\u001b[0;34m(\u001b[0m\u001b[0mdf_model\u001b[0m\u001b[0;34m)\u001b[0m\u001b[0;34m\u001b[0m\u001b[0;34m\u001b[0m\u001b[0m\n\u001b[0m",
      "\u001b[0;32m<ipython-input-45-8920dff2b2f3>\u001b[0m in \u001b[0;36mDaily_Low\u001b[0;34m(df_model, test_window)\u001b[0m\n\u001b[1;32m     18\u001b[0m     \u001b[0mclose_lst\u001b[0m \u001b[0;34m=\u001b[0m \u001b[0mdf_final\u001b[0m\u001b[0;34m[\u001b[0m\u001b[0;34m'close'\u001b[0m\u001b[0;34m]\u001b[0m\u001b[0;34m.\u001b[0m\u001b[0miloc\u001b[0m\u001b[0;34m[\u001b[0m\u001b[0;34m-\u001b[0m\u001b[0mtest_window\u001b[0m\u001b[0;34m:\u001b[0m\u001b[0;34m]\u001b[0m\u001b[0;34m.\u001b[0m\u001b[0mvalues\u001b[0m\u001b[0;34m\u001b[0m\u001b[0;34m\u001b[0m\u001b[0m\n\u001b[1;32m     19\u001b[0m     \u001b[0mopen_lst\u001b[0m \u001b[0;34m=\u001b[0m \u001b[0mdf_final\u001b[0m\u001b[0;34m[\u001b[0m\u001b[0;34m'open'\u001b[0m\u001b[0;34m]\u001b[0m\u001b[0;34m.\u001b[0m\u001b[0miloc\u001b[0m\u001b[0;34m[\u001b[0m\u001b[0;34m-\u001b[0m\u001b[0mtest_window\u001b[0m\u001b[0;34m:\u001b[0m\u001b[0;34m]\u001b[0m\u001b[0;34m.\u001b[0m\u001b[0mvalues\u001b[0m\u001b[0;34m\u001b[0m\u001b[0;34m\u001b[0m\u001b[0m\n\u001b[0;32m---> 20\u001b[0;31m     \u001b[0mdates\u001b[0m \u001b[0;34m=\u001b[0m \u001b[0mdf_final\u001b[0m\u001b[0;34m.\u001b[0m\u001b[0mindex\u001b[0m\u001b[0;34m.\u001b[0m\u001b[0miloc\u001b[0m\u001b[0;34m[\u001b[0m\u001b[0;34m-\u001b[0m\u001b[0mtest_window\u001b[0m\u001b[0;34m:\u001b[0m\u001b[0;34m]\u001b[0m\u001b[0;34m\u001b[0m\u001b[0;34m\u001b[0m\u001b[0m\n\u001b[0m\u001b[1;32m     21\u001b[0m \u001b[0;34m\u001b[0m\u001b[0m\n\u001b[1;32m     22\u001b[0m \u001b[0;34m\u001b[0m\u001b[0m\n",
      "\u001b[0;31mAttributeError\u001b[0m: 'RangeIndex' object has no attribute 'iloc'"
     ]
    }
   ],
   "source": [
    "Daily_Low(df_model)"
   ]
  },
  {
   "cell_type": "code",
   "execution_count": null,
   "id": "crazy-clearing",
   "metadata": {},
   "outputs": [],
   "source": []
  }
 ],
 "metadata": {
  "kernelspec": {
   "display_name": "Python 3",
   "language": "python",
   "name": "python3"
  },
  "language_info": {
   "codemirror_mode": {
    "name": "ipython",
    "version": 3
   },
   "file_extension": ".py",
   "mimetype": "text/x-python",
   "name": "python",
   "nbconvert_exporter": "python",
   "pygments_lexer": "ipython3",
   "version": "3.6.8"
  }
 },
 "nbformat": 4,
 "nbformat_minor": 5
}
